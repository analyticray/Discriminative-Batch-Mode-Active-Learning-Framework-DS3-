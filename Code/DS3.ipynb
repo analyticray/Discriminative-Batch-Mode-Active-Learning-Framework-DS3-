{
 "cells": [
  {
   "cell_type": "code",
   "execution_count": 1,
   "metadata": {},
   "outputs": [],
   "source": [
    "import pandas as pd\n",
    "import numpy as np\n",
    "from sklearn import preprocessing\n",
    "from numpy.random import RandomState\n",
    "from sklearn.preprocessing import LabelEncoder\n",
    "from sklearn.model_selection import train_test_split\n",
    "import math\n",
    "from sklearn.linear_model import LogisticRegression\n",
    "from math import log\n",
    "from imblearn.metrics import geometric_mean_score\n",
    "from sklearn.metrics import accuracy_score,f1_score\n",
    "from sklearn import svm\n",
    "from sklearn.svm import SVC\n",
    "from sklearn.cluster import KMeans\n",
    "from sklearn.utils import shuffle\n",
    "from scipy.spatial import distance\n",
    "from sklearn.mixture import GaussianMixture\n",
    "from sklearn.decomposition import PCA\n",
    "from sklearn.linear_model import LogisticRegression\n",
    "from sklearn.ensemble import RandomForestClassifier\n",
    "from sklearn.mixture import GaussianMixture\n",
    "from sklearn.ensemble import AdaBoostClassifier\n",
    "from sklearn.tree import DecisionTreeClassifier"
   ]
  },
  {
   "cell_type": "code",
   "execution_count": 2,
   "metadata": {},
   "outputs": [],
   "source": [
    "#read the dataset\n",
    "dataset=pd.read_csv(\"clean_dataset/zoabi/zoabi_b_preprocessed.csv\")\n",
    "dataset=shuffle(dataset)"
   ]
  },
  {
   "cell_type": "code",
   "execution_count": 3,
   "metadata": {},
   "outputs": [],
   "source": [
    "x=dataset.values"
   ]
  },
  {
   "cell_type": "code",
   "execution_count": 4,
   "metadata": {},
   "outputs": [],
   "source": [
    "dfX = pd.DataFrame(x)\n",
    "dfX.columns=dataset.columns\n",
    "X_Final=dfX"
   ]
  },
  {
   "cell_type": "code",
   "execution_count": 5,
   "metadata": {},
   "outputs": [],
   "source": [
    "index=list()\n",
    "for i in range(0,len(X_Final)):\n",
    "    index.append(i)"
   ]
  },
  {
   "cell_type": "code",
   "execution_count": 6,
   "metadata": {},
   "outputs": [],
   "source": [
    "#X_Final.drop(['id'],axis=1,inplace=True)\n",
    "X_Final['index']=index"
   ]
  },
  {
   "cell_type": "code",
   "execution_count": 7,
   "metadata": {},
   "outputs": [],
   "source": [
    "train_len=int(len(dataset)*0.1)\n",
    "test_len=int(len(dataset)*0.1)\n",
    "unlabel_len=int(len(dataset)*0.8)"
   ]
  },
  {
   "cell_type": "code",
   "execution_count": 8,
   "metadata": {},
   "outputs": [],
   "source": [
    "#take initial sample\n",
    "initial_label=X_Final.sample(n=round(train_len),random_state=101)\n",
    "#delete from unlabel\n",
    "unlabel=X_Final.drop(initial_label.index)\n",
    "test_dataset=unlabel.sample(n=round(test_len),replace=False)\n",
    "unlabel=unlabel.drop(test_dataset.index)"
   ]
  },
  {
   "cell_type": "code",
   "execution_count": 9,
   "metadata": {},
   "outputs": [],
   "source": [
    "clf = RandomForestClassifier(max_depth=4, random_state=0,n_estimators=50)"
   ]
  },
  {
   "cell_type": "code",
   "execution_count": 10,
   "metadata": {},
   "outputs": [
    {
     "name": "stdout",
     "output_type": "stream",
     "text": [
      "iteration  0\n",
      "iteration  1\n",
      "iteration  2\n",
      "iteration  3\n",
      "iteration  4\n",
      "iteration  5\n",
      "iteration  6\n",
      "iteration  7\n"
     ]
    }
   ],
   "source": [
    "minority_sample=list()\n",
    "gmean_score=list()\n",
    "f1_scr=list()\n",
    "acc_scr=list()\n",
    "for i in range(0,8):\n",
    "    print(\"iteration \",i)\n",
    "    #if i >0:\n",
    "    #   unlabel.drop(['entropy','cluster','similarity'],axis=1,inplace=True)\n",
    "    X_train=initial_label.drop(['Label'],axis=1)\n",
    "    y_train=initial_label['Label']\n",
    "    clf.fit(X_train,y_train)\n",
    "    X_U=unlabel.drop(['Label'],axis=1)\n",
    "    \n",
    "    #predict\n",
    "    \n",
    "    probs=clf.predict_proba(X_U)\n",
    "    #calculate the entropy\n",
    "    entropy=list()\n",
    "    for p in probs:\n",
    "        ent=0\n",
    "        ent1=-p[0] * log(p[0],2)\n",
    "        ent2=-p[1] * log(p[1],2)\n",
    "        ent=ent1+ent2\n",
    "        entropy.append(ent)\n",
    "    X_cluster=pd.DataFrame(X_U)\n",
    "    X_cluster['entropy']=entropy\n",
    "    kmeans = KMeans(n_clusters=60, random_state=100,max_iter=600,n_init=10)\n",
    "    kmeans.fit(X_cluster)\n",
    "    labels = kmeans.predict(X_cluster)\n",
    "    \n",
    "\n",
    "    data_cluster=unlabel.copy()\n",
    "    data_cluster['entropy']=entropy\n",
    "    data_cluster['cluster']=labels\n",
    "    X_cluster=X_cluster.to_numpy()\n",
    "    similarity_to_center=list()\n",
    "    for i, instance in enumerate(X_cluster):\n",
    "        cluster_label = labels[i]\n",
    "        centroid = kmeans.cluster_centers_[cluster_label] # cluster center of the cluster of that instance\n",
    "        similarity=distance.euclidean(instance,centroid)\n",
    "        similarity_to_center.append(similarity)\n",
    "    data_cluster['similarity']=similarity_to_center\n",
    "    cluster_labels=pd.DataFrame({\"index\":data_cluster['index'],'cluster':labels,\n",
    "                                    'uncertainty':data_cluster['entropy'],\n",
    "                                 'similarity':similarity_to_center})\n",
    "    cluster_dict=dict()\n",
    "    #creating the dataframe for each cluster\n",
    "    for item in range(0,60):\n",
    "        cluster_dict['cluster_{0}'.format(item)]=cluster_labels[cluster_labels['cluster']==item] \n",
    "    #Create the dataframe for each cluster\n",
    "    for i in range(0,60):\n",
    "            globals()['cluster_{}'.format(i)] = pd.DataFrame(cluster_dict['cluster_{}'.format(i)])\n",
    "    for i in range(0,60):\n",
    "        globals()['cluster_{}'.format(i)]=globals()['cluster_{}'.format(i)].sort_values(by=\"similarity\",ascending=True)\n",
    "    center_data=pd.DataFrame()\n",
    "    \n",
    "    for i in range(0,60):\n",
    "        data1=globals()['cluster_{}'.format(i)]\n",
    "        mn=data1['similarity'].median()\n",
    "        center=data1[data1['similarity']<=mn]\n",
    "        #center=center.sort_values(by='similarity',ascending=True)\n",
    "        data=center.head(1)\n",
    "        center_data=center_data.append(data)\n",
    "       \n",
    "    #get the label\n",
    "    sample_candidate=center_data.merge(data_cluster,on='index',how='left')\n",
    "    sample_candidate.drop(['cluster_x','uncertainty','similarity_x',\n",
    "               'entropy','cluster_y','similarity_y'],axis=1,inplace=True)\n",
    "\n",
    "    \n",
    "\n",
    "    majority=sample_candidate[sample_candidate['Label']==0]\n",
    "    minority=sample_candidate[sample_candidate['Label']==1]\n",
    "    #print(len(majority))\n",
    "    #print(len(minority))\n",
    "    sample_majority=majority.sample(n=len(minority),replace=True)\n",
    "    frame=[minority,sample_majority]\n",
    "    new_sample=pd.concat(frame)\n",
    "    #print(len(new_sample))\n",
    "    initial_label=initial_label.append(new_sample)\n",
    "\n",
    "   \n",
    "    \n",
    "    \n",
    "    #model performance\n",
    "    X=initial_label.drop(['Label'],axis=1)\n",
    "    y=initial_label['Label']\n",
    "    X_test=test_dataset.drop(['Label'],axis=1)\n",
    "    y_test=test_dataset['Label']\n",
    "    \n",
    "    clf.fit(X,y)\n",
    "    y_pred=clf.predict(X_test)\n",
    "\n",
    "    gmean=geometric_mean_score(y_pred,y_test)\n",
    "    f1=f1_score(y_pred,y_test)\n",
    "    gmean_score.append(gmean)\n",
    "    f1_scr.append(f1)\n",
    "    ac=accuracy_score(y_pred,y_test)\n",
    "    acc_scr.append(ac)\n",
    "\n",
    "    #remove from unlabel\n",
    "    #unlabel.drop(['entropy','cluster','similarity'],axis=1,inplace=True)\n",
    "    unlabel=unlabel[~unlabel['index'].isin(sample_candidate['index'])]"
   ]
  },
  {
   "cell_type": "code",
   "execution_count": 11,
   "metadata": {},
   "outputs": [
    {
     "data": {
      "text/plain": [
       "[0.7749090472183965,\n",
       " 0.7749090472183965,\n",
       " 0.7749090472183965,\n",
       " 0.7749090472183965,\n",
       " 0.7749090472183965,\n",
       " 0.7749090472183965,\n",
       " 0.7749090472183965,\n",
       " 0.7749090472183965]"
      ]
     },
     "execution_count": 11,
     "metadata": {},
     "output_type": "execute_result"
    }
   ],
   "source": [
    "gmean_score"
   ]
  },
  {
   "cell_type": "code",
   "execution_count": 12,
   "metadata": {},
   "outputs": [
    {
     "data": {
      "text/plain": [
       "[0.5287470370982856,\n",
       " 0.5287470370982856,\n",
       " 0.5287470370982856,\n",
       " 0.5287470370982856,\n",
       " 0.5287470370982856,\n",
       " 0.5287470370982856,\n",
       " 0.5287470370982856,\n",
       " 0.5287470370982856]"
      ]
     },
     "execution_count": 12,
     "metadata": {},
     "output_type": "execute_result"
    }
   ],
   "source": [
    "f1_scr"
   ]
  },
  {
   "cell_type": "code",
   "execution_count": 13,
   "metadata": {},
   "outputs": [
    {
     "data": {
      "text/plain": [
       "[0.9184699161715479,\n",
       " 0.9184699161715479,\n",
       " 0.9184699161715479,\n",
       " 0.9184699161715479,\n",
       " 0.9184699161715479,\n",
       " 0.9184699161715479,\n",
       " 0.9184699161715479,\n",
       " 0.9184699161715479]"
      ]
     },
     "execution_count": 13,
     "metadata": {},
     "output_type": "execute_result"
    }
   ],
   "source": [
    "acc_scr"
   ]
  },
  {
   "cell_type": "code",
   "execution_count": 14,
   "metadata": {},
   "outputs": [],
   "source": [
    "initial_label.drop(['index'],axis=1,inplace=True)"
   ]
  },
  {
   "cell_type": "code",
   "execution_count": 15,
   "metadata": {},
   "outputs": [],
   "source": [
    "X=initial_label.drop(['Label'],axis=1)\n",
    "y=initial_label['Label']"
   ]
  },
  {
   "cell_type": "code",
   "execution_count": 16,
   "metadata": {},
   "outputs": [],
   "source": [
    "X_train,X_test,y_train,y_test=train_test_split(X,y,test_size=0.2)"
   ]
  },
  {
   "cell_type": "code",
   "execution_count": 17,
   "metadata": {},
   "outputs": [
    {
     "data": {
      "text/plain": [
       "RandomForestClassifier(max_depth=4, n_estimators=50, random_state=0)"
      ]
     },
     "execution_count": 17,
     "metadata": {},
     "output_type": "execute_result"
    }
   ],
   "source": [
    "clf.fit(X_train,y_train)"
   ]
  },
  {
   "cell_type": "code",
   "execution_count": 18,
   "metadata": {},
   "outputs": [],
   "source": [
    "import sklearn.metrics as metrics"
   ]
  },
  {
   "cell_type": "code",
   "execution_count": 19,
   "metadata": {},
   "outputs": [
    {
     "data": {
      "image/png": "[encoded data removed]",
      "text/plain": [
       "<Figure size 432x288 with 1 Axes>"
      ]
     },
     "metadata": {
      "needs_background": "light"
     },
     "output_type": "display_data"
    }
   ],
   "source": [
    "probs = clf.predict_proba(X_test)\n",
    "preds = probs[:,1]\n",
    "fpr, tpr, threshold = metrics.roc_curve(y_test, preds)\n",
    "roc_auc = metrics.auc(fpr, tpr)\n",
    "\n",
    "# method I: plt\n",
    "import matplotlib.pyplot as plt\n",
    "plt.title('Receiver Operating Characteristic')\n",
    "plt.plot(fpr, tpr, 'b', label = 'AUC = %0.2f' % roc_auc)\n",
    "plt.legend(loc = 'lower right')\n",
    "plt.plot([0, 1], [0, 1],'r--')\n",
    "plt.xlim([0, 1])\n",
    "plt.ylim([0, 1])\n",
    "plt.ylabel('True Positive Rate')\n",
    "plt.xlabel('False Positive Rate')\n",
    "plt.show()"
   ]
  },
  {
   "cell_type": "code",
   "execution_count": 20,
   "metadata": {},
   "outputs": [],
   "source": [
    "#false_rate=pd.DataFrame([fpr])\n",
    "#true_rate=pd.DataFrame([tpr])\n",
    "#auc_rate=pd.DataFrame([roc_auc])\n",
    "#false_rate.to_csv(\"auc_curve/chinese/fpr_ds3_kaggle.csv\",index=False)\n",
    "#true_rate.to_csv(\"auc_curve/chinese/tpr_ds3_kaggle.csv\",index=False)\n",
    "#auc_rate.to_csv(\"auc_curve/chinese/auc_ds3_kaggle.csv\",index=False)"
   ]
  },
  {
   "cell_type": "code",
   "execution_count": null,
   "metadata": {},
   "outputs": [],
   "source": []
  }
 ],
 "metadata": {
  "kernelspec": {
   "display_name": "myenv",
   "language": "python",
   "name": "myenv"
  },
  "language_info": {
   "codemirror_mode": {
    "name": "ipython",
    "version": 3
   },
   "file_extension": ".py",
   "mimetype": "text/x-python",
   "name": "python",
   "nbconvert_exporter": "python",
   "pygments_lexer": "ipython3",
   "version": "3.7.9"
  }
 },
 "nbformat": 4,
 "nbformat_minor": 4
}
